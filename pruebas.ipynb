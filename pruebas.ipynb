{
 "cells": [
  {
   "cell_type": "code",
   "execution_count": null,
   "id": "c5d25ddb",
   "metadata": {},
   "outputs": [],
   "source": [
    "import pandas as pd\n",
    "import numpy as np\n",
    "from scipy.stats import norm\n"
   ]
  },
  {
   "cell_type": "markdown",
   "id": "1aca1332",
   "metadata": {},
   "source": [
    "## Leer CSV"
   ]
  },
  {
   "cell_type": "code",
   "execution_count": null,
   "id": "62a8ff12",
   "metadata": {},
   "outputs": [],
   "source": [
    "try:\n",
    "    df_results = pd.read_csv(\"resultados_satt_todos.csv\")\n",
    "except FileNotFoundError:\n",
    "    exit()\n",
    "except Exception as e:\n",
    "    print(f\"Error al leer el CSV: {e}\")\n",
    "    try:\n",
    "        df_results = pd.read_csv(\"resultados_satt_todos.csv\", delimiter=';')\n",
    "        print(\"Leído exitosamente con delimitador punto y coma.\")\n",
    "    except Exception as e_semi:\n",
    "        print(f\"Error al leer con punto y coma también: {e_semi}\")\n",
    "        exit()\n",
    "        \n",
    "df_results.columns = df_results.columns.str.strip()"
   ]
  },
  {
   "cell_type": "markdown",
   "id": "75a4c51e",
   "metadata": {},
   "source": [
    "## Pre-tratamiento de los datos"
   ]
  },
  {
   "cell_type": "code",
   "execution_count": null,
   "id": "4058e1b4",
   "metadata": {},
   "outputs": [],
   "source": [
    "# Convertir columnas numéricas\n",
    "numeric_cols = ['satt_true', 'satt_est', 'bias', 'mse', 'ci_ancho', 'tiempo_seg']\n",
    "for col in numeric_cols:\n",
    "    if col in df_results.columns:\n",
    "        df_results[col] = pd.to_numeric(df_results[col], errors='coerce')\n",
    "\n",
    "# Convertir 'cobertura_ic' a booleano\n",
    "if 'cobertura_ic' in df_results.columns:\n",
    "    if df_results['cobertura_ic'].dtype == 'object':\n",
    "        df_results['cobertura_ic'] = df_results['cobertura_ic'].astype(str).str.strip().str.lower().map({'true': True, 'false': False})\n",
    "    elif pd.api.types.is_numeric_dtype(df_results['cobertura_ic']):\n",
    "        df_results['cobertura_ic'] = df_results['cobertura_ic'].astype(bool)\n",
    "    df_results.dropna(subset=['cobertura_ic'], inplace=True)\n",
    "    if not pd.api.types.is_bool_dtype(df_results['cobertura_ic']):\n",
    "         print(\"Advertencia: La columna 'cobertura_ic' contiene valores no booleanos después de la conversión.\")\n",
    "else:\n",
    "    print(\"Advertencia: Columna 'cobertura_ic' no encontrada.\")\n",
    "\n",
    "# Eliminar filas donde las métricas numéricas clave son NaN para los cálculos de promedio\n",
    "df_cleaned_numeric = df_results.dropna(subset=[col for col in ['bias', 'mse', 'ci_ancho'] if col in df_results.columns])"
   ]
  },
  {
   "cell_type": "code",
   "execution_count": null,
   "id": "bf83df3a",
   "metadata": {},
   "outputs": [],
   "source": [
    "print(f\"Filas en df_results: {len(df_results)}\")\n",
    "print(f\"Filas en df_cleaned_numeric: {len(df_cleaned_numeric)}\")\n",
    "\n",
    "# Verificar si hay NaNs en las columnas clave DESPUÉS de la conversión a numérico\n",
    "print(\"\\nNaNs en df_results después de to_numeric (para columnas clave del dropna):\")\n",
    "print(df_results[['bias', 'mse', 'ci_ancho']].isnull().sum())\n",
    "\n",
    "if len(df_results) == len(df_cleaned_numeric):\n",
    "    print(\"\\nConfirmado: df_results y df_cleaned_numeric tienen el mismo número de filas.\")\n",
    "    print(\"Esto implica que no había NaNs en 'bias', 'mse', o 'ci_ancho' en df_results (después de to_numeric).\")\n",
    "else:\n",
    "    print(\"\\nAdvertencia: df_results y df_cleaned_numeric tienen diferente número de filas.\")\n",
    "    print(\"Esto implica que SÍ había NaNs en 'bias', 'mse', o 'ci_ancho' que fueron eliminados.\")"
   ]
  },
  {
   "cell_type": "markdown",
   "id": "40ad4afb",
   "metadata": {},
   "source": [
    "## Análisis"
   ]
  },
  {
   "cell_type": "code",
   "execution_count": null,
   "id": "5bbec371",
   "metadata": {},
   "outputs": [],
   "source": [
    "print(\"\\n=== Resumen Global Calculado ===\")\n",
    "total_datasets_in_file = len(df_results)\n",
    "total_datasets_for_numeric_avg = len(df_cleaned_numeric)\n",
    "\n",
    "cobertura_media_calc = df_results['cobertura_ic'].mean() * 100 if 'cobertura_ic' in df_results.columns and pd.api.types.is_bool_dtype(df_results['cobertura_ic']) else np.nan\n",
    "ancho_medio_calc = df_cleaned_numeric['ci_ancho'].mean() if 'ci_ancho' in df_cleaned_numeric.columns else np.nan\n",
    "bias_medio_calc = df_cleaned_numeric['bias'].mean() if 'bias' in df_cleaned_numeric.columns else np.nan\n",
    "mse_medio_calc = df_cleaned_numeric['mse'].mean() if 'mse' in df_cleaned_numeric.columns else np.nan\n",
    "# RMSE global\n",
    "rmse_global = np.sqrt(df_results['mse'].mean()) if 'mse' in df_results.columns else np.nan\n",
    "\n",
    "\n",
    "print(f\"Datasets procesados (después de limpiar cobertura_ic): {total_datasets_in_file}\")\n",
    "print(f\"Datasets usados para promedios numéricos: {total_datasets_for_numeric_avg}\")\n",
    "print(f\"Cobertura IC        : {cobertura_media_calc:.2f} %\")\n",
    "print(f\"Ancho IC            : {ancho_medio_calc:.4f}\")\n",
    "print(f\"Promedio Bias       : {bias_medio_calc:.4f}\")\n",
    "print(f\"Promedio MSE        : {mse_medio_calc:.4f}\")\n",
    "print(f'RMSE global         : {rmse_global:.4f}')\n",
    "\n",
    "\n",
    "if 'modelo_elegido' in df_results.columns:\n",
    "    print(\"\\nModelos elegidos (sobre datos con cobertura_ic válida):\")\n",
    "    print(df_results['modelo_elegido'].value_counts())"
   ]
  },
  {
   "cell_type": "code",
   "execution_count": null,
   "id": "9c04e296",
   "metadata": {},
   "outputs": [],
   "source": [
    "# Agregado completo por modelo\n",
    "agg_modelo = (\n",
    "    df_results.groupby('modelo_elegido')\n",
    "      .agg(\n",
    "          n_archivos = ('archivo',   'size'),\n",
    "          rmse       = ('mse',       lambda x: np.sqrt(x.mean())),\n",
    "          bias       = ('bias',      'mean'),\n",
    "          cobertura  = ('cobertura_ic', 'mean'),\n",
    "          ancho_ic   = ('ci_ancho',  'mean'),\n",
    "          tiempo_seg = ('tiempo_seg','mean')\n",
    "      )\n",
    "      .reset_index()\n",
    "      .sort_values('modelo_elegido')\n",
    ")\n",
    "\n",
    "agg_modelo['cobertura_%'] = agg_modelo['cobertura'] * 100\n",
    "agg_modelo.drop(columns='cobertura', inplace=True)\n",
    "\n",
    "print(\"\\n--- Rendimiento promedio por modelo ---\")\n",
    "print(\n",
    "    agg_modelo[\n",
    "        ['modelo_elegido','bias','rmse','cobertura_%','ancho_ic','tiempo_seg']\n",
    "    ].round(4)\n",
    ")\n"
   ]
  },
  {
   "cell_type": "code",
   "execution_count": null,
   "id": "7e420225",
   "metadata": {},
   "outputs": [],
   "source": [
    "# RMSE por carpeta\n",
    "rmse_carpeta = (\n",
    "    df_results.groupby('carpeta')['mse']\n",
    "      .mean()\n",
    "      .pipe(np.sqrt)\n",
    ")\n",
    "rmse_carpeta.head()"
   ]
  },
  {
   "cell_type": "code",
   "execution_count": null,
   "id": "35f224a0",
   "metadata": {},
   "outputs": [],
   "source": [
    "# Agregado completo por carpeta\n",
    "agg_carpeta = (\n",
    "    df_results.groupby('carpeta')\n",
    "      .agg(\n",
    "          n_archivos = ('archivo', 'size'),\n",
    "          rmse       = ('mse',     lambda x: np.sqrt(x.mean())),\n",
    "          bias       = ('bias',    'mean'),\n",
    "          cobertura  = ('cobertura_ic', 'mean'),\n",
    "          ancho_ic   = ('ci_ancho',     'mean')\n",
    "      )\n",
    "      .reset_index()\n",
    "      .sort_values('carpeta')\n",
    ")\n",
    "\n",
    "# Rendimiento promedio por carpeta\n",
    "agg_carpeta['cobertura_%'] = agg_carpeta['cobertura'] * 100\n",
    "\n",
    "print(\"\\n--- Rendimiento promedio por carpeta ---\")\n",
    "print(\n",
    "    agg_carpeta[\n",
    "        ['carpeta', 'bias', 'rmse', 'cobertura_%', 'ancho_ic', 'n_archivos']\n",
    "    ].round({'bias':4, 'rmse':4, 'cobertura_%':2, 'ancho_ic':4})\n",
    ")"
   ]
  },
  {
   "cell_type": "code",
   "execution_count": null,
   "id": "c5013d8b",
   "metadata": {},
   "outputs": [],
   "source": [
    "# TOP -> B según RMSE\n",
    "print(\"\\nCarpetas con mayor RMSE promedio:\")\n",
    "print(agg_carpeta.nlargest(5, 'rmse')[['carpeta','rmse']].round(4))\n",
    "\n",
    "print(\"\\nCarpetas con menor RMSE promedio:\")\n",
    "print(agg_carpeta.nsmallest(5, 'rmse')[['carpeta','rmse']].round(4))\n",
    "\n",
    "# TOP -> B según Cobertura\n",
    "print(\"\\nCarpetas con menor Cobertura IC promedio (%):\")\n",
    "print(agg_carpeta.nsmallest(5, 'cobertura_%')[['carpeta','cobertura_%']].round(2))\n",
    "\n",
    "# TOP -> B según Ancho de IC\n",
    "print(\"\\nCarpetas con mayor Ancho IC promedio:\")\n",
    "print(agg_carpeta.nlargest(5, 'ancho_ic')[['carpeta','ancho_ic']].round(4))\n"
   ]
  },
  {
   "cell_type": "markdown",
   "id": "d976229d",
   "metadata": {},
   "source": [
    "## Test de hipótesis\n",
    "\n",
    "Comparativa de la submuestra con el análisis del CalCause original (Dorie et al., 2019, Fig. 3)"
   ]
  },
  {
   "cell_type": "code",
   "execution_count": null,
   "id": "12bad2ae",
   "metadata": {},
   "outputs": [],
   "source": [
    "# Parámetros observados\n",
    "n     = len(df_results)\n",
    "x     = df_results['cobertura_ic'].sum()  # casos en que el IC cubre el SATT\n",
    "p_hat = x / n\n",
    "\n",
    "# Benchmark del paper CalCause\n",
    "p_0 = 0.82\n",
    "\n",
    "# Estadístico Z\n",
    "se   = np.sqrt(p_0 * (1 - p_0) / n)\n",
    "z    = (p_hat - p_0) / se\n",
    "pval = 2 * (1 - norm.cdf(abs(z)))\n",
    "\n",
    "print(f\"Cobertura observada: {p_hat:.4f}\")\n",
    "print(f\"Cobertura esperada (CalCause): {p_0}\")\n",
    "print(f\"Z = {z:.3f}\")\n",
    "print(f\"p-valor = {pval:.4g}\")"
   ]
  }
 ],
 "metadata": {
  "kernelspec": {
   "display_name": "venv",
   "language": "python",
   "name": "python3"
  },
  "language_info": {
   "codemirror_mode": {
    "name": "ipython",
    "version": 3
   },
   "file_extension": ".py",
   "mimetype": "text/x-python",
   "name": "python",
   "nbconvert_exporter": "python",
   "pygments_lexer": "ipython3",
   "version": "3.11.9"
  }
 },
 "nbformat": 4,
 "nbformat_minor": 5
}
